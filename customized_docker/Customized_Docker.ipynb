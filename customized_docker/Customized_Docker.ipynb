{
 "cells": [
  {
   "cell_type": "markdown",
   "metadata": {},
   "source": [
    "# Tensorflow コンテナのカスタマイズ\n",
    "## 概要\n",
    "### 注意\n",
    "Readme.mdにもあるように、ノートブックインスタンスにAmazonSageMakerFullAccessとAmazonEC2ContainerRegistryFullAccessのロールを付与してください。レジストリの作成やpushを行うためです。\n",
    "\n",
    "### 概要\n",
    "\n",
    "Tensorflowなどの各種Deep Learningフレームワークに対応したコンテナイメージを、ユーザ自身が作成できるようにするため、各種Dockerファイルが公開されています。  \n",
    "https://github.com/aws/sagemaker-tensorflow-container  \n",
    "https://github.com/aws/sagemaker-mxnet-container  \n",
    "https://github.com/aws/sagemaker-chainer-container  \n",
    "https://github.com/aws/sagemaker-pytorch-container  \n",
    "このノートブックでは、Tensorflow1.10のコンテナイメージをビルドし、ECRにpushして、SageMakerで利用するまでの流れを説明します。\n",
    "\n",
    "## コンテナイメージの作成\n",
    "Dockerファイルをダウンロードして編集し、最後にビルドします。"
   ]
  },
  {
   "cell_type": "markdown",
   "metadata": {},
   "source": [
    "### (1) Dockerファイルのcloneと編集\n",
    "\n",
    "`git clone`を利用してdockerファイルをcloneします。ファイルは`sagemaker-tensorflow-container/docker/1.10.0/`以下に、`Dockerfile.gpu`と`Dockerfile.cpu`に保存されます。gpuとついているのはGPUを利用するためのDockerfile, cpuとついているのはCPUを利用するためのDockerfileとなります。"
   ]
  },
  {
   "cell_type": "code",
   "execution_count": null,
   "metadata": {},
   "outputs": [],
   "source": [
    "!git clone https://github.com/aws/sagemaker-tensorflow-container.git"
   ]
  },
  {
   "cell_type": "markdown",
   "metadata": {},
   "source": [
    "`git clone`が終わるとそれぞれのファイルを編集します。例えば、Approximate Nearest Neighborの[Annoy](https://github.com/spotify/annoy)をコンテナイメージに入れたい場合は、Dockerfileの最後に以下を追記します。ただし現状はpipインストール可能なライブラリのためにBYOCをする必要はありません。Estimatorにrequirements.txtを渡すと、pipインストールされます。詳しくはhttps://sagemaker.readthedocs.io/en/latest/sagemaker.tensorflow.html\n",
    "```\n",
    "RUN pip install annoy\n",
    "```"
   ]
  },
  {
   "cell_type": "markdown",
   "metadata": {},
   "source": [
    "### (2-1) GPU向けPython3系Tensorflowのコンテナイメージ\n",
    "\n",
    "こちらはTensorflow1.10.0を利用する場合のビルトになります。基本的な流れは\n",
    "https://github.com/aws/sagemaker-tensorflow-container　に説明されており、以下のスクリプトは、その説明をひとまとめにしたものです。"
   ]
  },
  {
   "cell_type": "code",
   "execution_count": null,
   "metadata": {},
   "outputs": [],
   "source": [
    "!cd sagemaker-tensorflow-container && python setup.py sdist\n",
    "!cd sagemaker-tensorflow-container/ && cp  dist/sagemaker_tensorflow_container-*.tar.gz docker/1.10.0/\n",
    "!cd sagemaker-tensorflow-container/docker/1.10.0/final/py2 && \\\n",
    "wget https://files.pythonhosted.org/packages/64/ca/830b7cedb073ae264d215d51bd18d7cff7a2a47e39d79f6fa23edae17bb2/tensorflow_gpu-1.10.0-cp36-cp36m-manylinux1_x86_64.whl &&  \\\n",
    "docker build -t preprod-tensorflow:1.10.0-gpu-py3 --build-arg py_version=3 --build-arg framework_installable=tensorflow_gpu-1.10.0-cp36-cp36m-manylinux1_x86_64.whl -f Dockerfile.gpu ."
   ]
  },
  {
   "cell_type": "markdown",
   "metadata": {},
   "source": [
    "### (2-2) CPU向けPython3系Tensorflowのコンテナイメージ"
   ]
  },
  {
   "cell_type": "code",
   "execution_count": null,
   "metadata": {},
   "outputs": [],
   "source": [
    "!cd sagemaker-tensorflow-container && python setup.py sdist\n",
    "!cd sagemaker-tensorflow-container/ && cp  dist/sagemaker_tensorflow_container-*.tar.gz docker/1.10.0/\n",
    "!cd sagemaker-tensorflow-container/docker/1.10.0/final/py2 && \\\n",
    "wget https://files.pythonhosted.org/packages/ee/e6/a6d371306c23c2b01cd2cb38909673d17ddd388d9e4b3c0f6602bfd972c8/tensorflow-1.10.0-cp36-cp36m-manylinux1_x86_64.whl &&  \\\n",
    "docker build -t preprod-tensorflow:1.10.0-cpu-py3 --build-arg py_version=3 --build-arg framework_installable=tensorflow-1.10.0-cp36-cp36m-manylinux1_x86_64.whl -f Dockerfile.cpu ."
   ]
  },
  {
   "cell_type": "markdown",
   "metadata": {},
   "source": [
    "### (3) Dockerイメージの確認\n",
    "REPOSITORYが`preprod-tensorflow`、TAGが`1.10.0-cpu-py3`と`1.10.0-gpu-py3`の2つができていることを確認します。前者がcpu、後者がgpu用のコンテナイメージです。\n",
    "    "
   ]
  },
  {
   "cell_type": "code",
   "execution_count": null,
   "metadata": {},
   "outputs": [],
   "source": [
    "!docker images"
   ]
  },
  {
   "cell_type": "markdown",
   "metadata": {},
   "source": [
    "### (4) DockerイメージをECRにpush\n",
    "コンテナイメージの内容を確認したら、レポジトリの名前やタグなどをメモしておき、それらをECRにアップロードします。大まかな流れは：\n",
    "1. boto3でECRにレポジトリを作成(メモしたレポジトリの名前を入れる）\n",
    "1. ECRにログイン\n",
    "1. docker tag と docker pushでそれぞれのコンテナをpush\n"
   ]
  },
  {
   "cell_type": "code",
   "execution_count": null,
   "metadata": {},
   "outputs": [],
   "source": [
    "import boto3\n",
    "\n",
    "# Create repository with AWS SDK boto3\n",
    "rep_name = 'preprod-tensorflow'\n",
    "client = boto3.client('ecr')\n",
    "response = client.create_repository(repositoryName=rep_name)\n",
    "repo_url = response['repository']['repositoryUri']\n",
    "\n",
    "# Specifying names\n",
    "gpu_tag = '1.10.0-gpu-py3'\n",
    "cpu_tag = '1.10.0-cpu-py3'\n",
    "gpu_name = rep_name + ':' + gpu_tag\n",
    "gpu_repo_name = repo_url + ':' + gpu_tag\n",
    "cpu_name = rep_name + ':' + cpu_tag\n",
    "cpu_repo_name = repo_url + ':' + cpu_tag\n",
    "\n",
    "\n",
    "# Login to ECR\n",
    "!$(aws ecr get-login --region ap-northeast-1 --no-include-email)\n",
    "\n",
    "#push cpu image to ECR\n",
    "!docker tag  $cpu_name $cpu_repo_name\n",
    "!docker push $cpu_repo_name\n",
    "\n",
    "#push cpu image to ECR\n",
    "!docker tag  $gpu_name $gpu_repo_name\n",
    "!docker push $gpu_repo_name"
   ]
  },
  {
   "cell_type": "markdown",
   "metadata": {},
   "source": [
    "## ここからは通常のSageMakerの使い方になります\n",
    "\n",
    "使用しているのはこちらです。コメントもこちらをご覧ください。  \n",
    "https://github.com/awslabs/amazon-sagemaker-examples/tree/master/sagemaker-python-sdk/tensorflow_distributed_mnist\n",
    "\n",
    "### 環境セットアップ"
   ]
  },
  {
   "cell_type": "code",
   "execution_count": null,
   "metadata": {},
   "outputs": [],
   "source": [
    "import os\n",
    "import sagemaker\n",
    "from sagemaker import get_execution_role\n",
    "\n",
    "sagemaker_session = sagemaker.Session()\n",
    "\n",
    "role = get_execution_role()"
   ]
  },
  {
   "cell_type": "markdown",
   "metadata": {},
   "source": [
    "### MNISTデータセットのダウンロード"
   ]
  },
  {
   "cell_type": "code",
   "execution_count": null,
   "metadata": {},
   "outputs": [],
   "source": [
    "import utils\n",
    "from tensorflow.contrib.learn.python.learn.datasets import mnist\n",
    "import tensorflow as tf\n",
    "\n",
    "data_sets = mnist.read_data_sets('data', dtype=tf.uint8, reshape=False, validation_size=5000)\n",
    "\n",
    "utils.convert_to(data_sets.train, 'train', 'data')\n",
    "utils.convert_to(data_sets.validation, 'validation', 'data')\n",
    "utils.convert_to(data_sets.test, 'test', 'data')"
   ]
  },
  {
   "cell_type": "markdown",
   "metadata": {},
   "source": [
    "### データのアップロード"
   ]
  },
  {
   "cell_type": "code",
   "execution_count": null,
   "metadata": {},
   "outputs": [],
   "source": [
    "inputs = sagemaker_session.upload_data(path='data', key_prefix='data/DEMO-mnist')"
   ]
  },
  {
   "cell_type": "markdown",
   "metadata": {},
   "source": [
    "### 学習の実行\n",
    "\n",
    "まず今回利用するコンテナイメージを確認します。cpuを使うならcpu_repo_name, gpuを使うならgpu_repo_nameを使います。"
   ]
  },
  {
   "cell_type": "code",
   "execution_count": null,
   "metadata": {},
   "outputs": [],
   "source": [
    "print(cpu_repo_name)"
   ]
  },
  {
   "cell_type": "markdown",
   "metadata": {},
   "source": [
    "CPUなら`image_name = cpu_repo_name`としてTensorflowのEstimatorを作り、学習・デプロイを行います。ここでは学習のみ行います。"
   ]
  },
  {
   "cell_type": "code",
   "execution_count": null,
   "metadata": {},
   "outputs": [],
   "source": [
    "from sagemaker.tensorflow import TensorFlow\n",
    "\n",
    "mnist_estimator = TensorFlow(entry_point='mnist.py',\n",
    "                             role=role,\n",
    "                             image_name= cpu_repo_name,\n",
    "                             framework_version='1.10.0',\n",
    "                             training_steps=100, \n",
    "                             evaluation_steps=10,\n",
    "                             train_instance_count=1,\n",
    "                             train_instance_type='ml.c4.xlarge')\n",
    "\n",
    "mnist_estimator.fit(inputs)"
   ]
  }
 ],
 "metadata": {
  "kernelspec": {
   "display_name": "conda_tensorflow_p36",
   "language": "python",
   "name": "conda_tensorflow_p36"
  },
  "language_info": {
   "codemirror_mode": {
    "name": "ipython",
    "version": 3
   },
   "file_extension": ".py",
   "mimetype": "text/x-python",
   "name": "python",
   "nbconvert_exporter": "python",
   "pygments_lexer": "ipython3",
   "version": "3.6.5"
  }
 },
 "nbformat": 4,
 "nbformat_minor": 2
}
