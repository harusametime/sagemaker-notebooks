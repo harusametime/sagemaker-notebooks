{
 "cells": [
  {
   "cell_type": "code",
   "execution_count": 12,
   "metadata": {},
   "outputs": [
    {
     "name": "stdout",
     "output_type": "stream",
     "text": [
      "ssd_mobilenet_v1_coco_2018_01_28/\n",
      "ssd_mobilenet_v1_coco_2018_01_28/model.ckpt.index\n",
      "ssd_mobilenet_v1_coco_2018_01_28/checkpoint\n",
      "ssd_mobilenet_v1_coco_2018_01_28/pipeline.config\n",
      "ssd_mobilenet_v1_coco_2018_01_28/model.ckpt.data-00000-of-00001\n",
      "ssd_mobilenet_v1_coco_2018_01_28/model.ckpt.meta\n",
      "ssd_mobilenet_v1_coco_2018_01_28/saved_model/\n",
      "ssd_mobilenet_v1_coco_2018_01_28/saved_model/saved_model.pb\n",
      "ssd_mobilenet_v1_coco_2018_01_28/saved_model/variables/\n",
      "ssd_mobilenet_v1_coco_2018_01_28/frozen_inference_graph.pb\n"
     ]
    }
   ],
   "source": [
    "import urllib.request\n",
    "import os\n",
    "\n",
    "download_file = \"ssd_mobilenet_v1_coco_2018_01_28.tar.gz\"\n",
    "model1_dir = \"multi/model1/0/\"\n",
    "if not os.path.exists(download_file):\n",
    "    url =\"http://download.tensorflow.org/models/object_detection/ssd_mobilenet_v1_coco_2018_01_28.tar.gz\"\n",
    "    urllib.request.urlretrieve(url, download_file)\n",
    "\n",
    "os.makedirs(model1_dir, exist_ok=True)\n",
    "os.makedirs(model1_dir+'variables', exist_ok=True)\n",
    "    \n",
    "!tar xvzf $download_file\n",
    "!mv ssd_mobilenet_v1_coco_2018_01_28/saved_model/saved_model.pb $model1_dir\n",
    "!mv ssd_mobilenet_v1_coco_2018_01_28/model.ckpt.index $model1_dir/variables/variables.index\n",
    "!mv ssd_mobilenet_v1_coco_2018_01_28/model.ckpt.data-00000-of-00001 $model1_dir/variables/variables.data-00000-of-00001"
   ]
  },
  {
   "cell_type": "code",
   "execution_count": 13,
   "metadata": {},
   "outputs": [
    {
     "name": "stdout",
     "output_type": "stream",
     "text": [
      "./resnet_v2_fp32_savedmodel_NCHW/\n",
      "./resnet_v2_fp32_savedmodel_NCHW/1538687196/\n",
      "./resnet_v2_fp32_savedmodel_NCHW/1538687196/variables/\n",
      "./resnet_v2_fp32_savedmodel_NCHW/1538687196/variables/variables.index\n",
      "./resnet_v2_fp32_savedmodel_NCHW/1538687196/variables/variables.data-00000-of-00001\n",
      "./resnet_v2_fp32_savedmodel_NCHW/1538687196/saved_model.pb\n"
     ]
    }
   ],
   "source": [
    "import urllib.request\n",
    "import os\n",
    "\n",
    "download_file = \"resnet_v2_fp32_savedmodel_NCHW.tar.gz\"\n",
    "model2_dir = \"multi/model2/0/\"\n",
    "if not os.path.exists(download_file):\n",
    "    url =\"http://download.tensorflow.org/models/official/20181001_resnet/savedmodels/resnet_v2_fp32_savedmodel_NCHW.tar.gz\"\n",
    "    urllib.request.urlretrieve(url, download_file)\n",
    "\n",
    "os.makedirs(model2_dir, exist_ok=True)\n",
    "os.makedirs(model2_dir+'variables', exist_ok=True)\n",
    "    \n",
    "!tar xvzf $download_file\n",
    "!mv resnet_v2_fp32_savedmodel_NCHW/1538687196/ $model2_dir"
   ]
  },
  {
   "cell_type": "code",
   "execution_count": 15,
   "metadata": {},
   "outputs": [
    {
     "name": "stdout",
     "output_type": "stream",
     "text": [
      "tar: multi: Cannot stat: No such file or directory\n",
      "tar: Exiting with failure status due to previous errors\n"
     ]
    }
   ],
   "source": [
    "!tar -C \"$PWD/multi/\" -czvf multi.tar.gz multi/"
   ]
  },
  {
   "cell_type": "code",
   "execution_count": null,
   "metadata": {},
   "outputs": [],
   "source": []
  }
 ],
 "metadata": {
  "kernelspec": {
   "display_name": "conda_tensorflow_p36",
   "language": "python",
   "name": "conda_tensorflow_p36"
  },
  "language_info": {
   "codemirror_mode": {
    "name": "ipython",
    "version": 3
   },
   "file_extension": ".py",
   "mimetype": "text/x-python",
   "name": "python",
   "nbconvert_exporter": "python",
   "pygments_lexer": "ipython3",
   "version": "3.6.5"
  }
 },
 "nbformat": 4,
 "nbformat_minor": 2
}
