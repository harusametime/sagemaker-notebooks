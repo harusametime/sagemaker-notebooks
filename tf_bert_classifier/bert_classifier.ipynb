{
 "cells": [
  {
   "cell_type": "markdown",
   "metadata": {},
   "source": [
    "# BERTモデルによるテキスト分類\n",
    "\n",
    "## BERTの利用方法\n",
    "wikipediaからダウンロードした40文でBERTモデルをfine-tuningし、テキストを分類するモデルを作成、ホスティングします。\n",
    "BERTとは汎用言語モデルと呼ばれており、Wikipediaのような巨大なコーパスであらかじめ学習済みのモデルです。\n",
    "学習済みのモデルを利用して、質問応答、文章生成、テキスト分類などのタスクにfine-tuningして利用することができます。\n",
    "\n",
    "TensorFlowに関しては、こちらに多言語用の学習済みBERTモデルが提供されています。\n",
    "- GitHubのページ: https://github.com/google-research/bert\n",
    "- モデルへのリンク: https://storage.googleapis.com/bert_models/2018_11_23/multi_cased_L-12_H-768_A-12.zip\n",
    "\n",
    "このモデルを読みこんで分類用にfine-tuningするコードを `src`フォルダに入れています。そのなかの`entry.py`が学習とホスティングを行うためのコードで、BERTを扱うためのソースコードは`src/bert`に入れています。それぞれgithubの以下のコードを流用しています。\n",
    "- 学習のコード, https://github.com/google-research/bert/blob/master/run_classifier.py\n",
    "- bertフォルダのコード, https://github.com/google-research/bert\n",
    "\n",
    "なおTensorFlow以外にも[GluonNLP](https://gluon-nlp.mxnet.io/)が高レベルなラッパーを提供しており、非常に短いコードで学習済みBERTモデルからのfine-tuningを行うことができます。\n",
    "\n",
    "## 学習用データのS3へのアップロード\n",
    "`upload_data`関数を利用して、wikipediaの各ページ(うどん、すし、ラーメン、カレー）の計40文をアップロードします。"
   ]
  },
  {
   "cell_type": "code",
   "execution_count": null,
   "metadata": {},
   "outputs": [],
   "source": [
    "import os\n",
    "import sagemaker\n",
    "from sagemaker import get_execution_role\n",
    "\n",
    "sagemaker_session = sagemaker.Session()\n",
    "\n",
    "role = get_execution_role()\n",
    "\n",
    "train_text = sagemaker_session.upload_data(path = './corpus_from_wiki.txt')"
   ]
  },
  {
   "cell_type": "markdown",
   "metadata": {},
   "source": [
    "## セットアップ"
   ]
  },
  {
   "cell_type": "code",
   "execution_count": null,
   "metadata": {},
   "outputs": [],
   "source": [
    "\n",
    "from sagemaker.tensorflow import TensorFlow\n",
    "\n",
    "bert_estimator = TensorFlow(entry_point='entry.py',\n",
    "                             role=role,\n",
    "                             source_dir =\"./src\",\n",
    "                             train_instance_count=1,\n",
    "                             train_instance_type='ml.c5.2xlarge',\n",
    "                             framework_version='1.12',\n",
    "                             py_version = 'py3')\n"
   ]
  },
  {
   "cell_type": "markdown",
   "metadata": {},
   "source": [
    "## 学習"
   ]
  },
  {
   "cell_type": "code",
   "execution_count": null,
   "metadata": {},
   "outputs": [],
   "source": [
    "bert_estimator.fit(train_text)"
   ]
  },
  {
   "cell_type": "markdown",
   "metadata": {},
   "source": [
    "## デプロイ"
   ]
  },
  {
   "cell_type": "code",
   "execution_count": null,
   "metadata": {},
   "outputs": [],
   "source": [
    "from sagemaker.tensorflow.model import TensorFlowModel\n",
    "bert_model = TensorFlowModel(bert_estimator.model_data, role = role, entry_point = 'entry.py', source_dir =\"./src\", framework_version='1.12')\n",
    "predictor = bert_model.deploy(initial_instance_count=1, instance_type='ml.m4.xlarge')"
   ]
  },
  {
   "cell_type": "markdown",
   "metadata": {},
   "source": [
    "## 推論"
   ]
  },
  {
   "cell_type": "code",
   "execution_count": null,
   "metadata": {},
   "outputs": [],
   "source": [
    "import numpy as np\n",
    "\n",
    "labels = ['うどん', '寿司', 'ラーメン', 'カレー']\n",
    "\n",
    "query = '文章をここにいれてください。'\n",
    "result = predictor.predict({\"instances\": query})\n",
    "\n",
    "label_index = np.argmax(result['outputs']['probabilities']['float_val'])\n",
    "print(\"クエリ: 「{}」\".format(query))\n",
    "print(\"あなたの文章は {} っぽいです。\".format(labels[label_index]))\n",
    "print()\n",
    "print(result)"
   ]
  },
  {
   "cell_type": "markdown",
   "metadata": {},
   "source": [
    "## エンドポイントの削除"
   ]
  },
  {
   "cell_type": "code",
   "execution_count": null,
   "metadata": {},
   "outputs": [],
   "source": [
    "predictor.delete_endpoint()"
   ]
  },
  {
   "cell_type": "code",
   "execution_count": null,
   "metadata": {},
   "outputs": [],
   "source": []
  }
 ],
 "metadata": {
  "kernelspec": {
   "display_name": "conda_tensorflow_p36",
   "language": "python",
   "name": "conda_tensorflow_p36"
  },
  "language_info": {
   "codemirror_mode": {
    "name": "ipython",
    "version": 3
   },
   "file_extension": ".py",
   "mimetype": "text/x-python",
   "name": "python",
   "nbconvert_exporter": "python",
   "pygments_lexer": "ipython3",
   "version": "3.6.5"
  }
 },
 "nbformat": 4,
 "nbformat_minor": 2
}
